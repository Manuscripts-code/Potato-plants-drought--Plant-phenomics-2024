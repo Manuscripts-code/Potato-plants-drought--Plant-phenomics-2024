{
 "cells": [
  {
   "cell_type": "code",
   "execution_count": null,
   "metadata": {},
   "outputs": [],
   "source": [
    "import sys\n",
    "sys.path.insert(0,'..')\n",
    "import glob\n",
    "from pathlib import Path\n",
    "\n",
    "from pivottablejs import pivot_ui\n",
    "\n",
    "from configs import configs\n",
    "from notebooks.helpers import create_dataframe_from_absolute_paths"
   ]
  },
  {
   "cell_type": "code",
   "execution_count": null,
   "metadata": {},
   "outputs": [],
   "source": [
    "data_dir_base = Path(configs.DATA_DIR)\n",
    "# get filepaths from data_dir_base and its subdirectories\n",
    "filepaths = glob.glob(str(data_dir_base / \"**/*.hdr\"), recursive=True)\n",
    "# create dataframe filed with metadata of samples\n",
    "df = create_dataframe_from_absolute_paths(filepaths)"
   ]
  },
  {
   "cell_type": "code",
   "execution_count": null,
   "metadata": {},
   "outputs": [],
   "source": [
    "pivot_ui(df)\n",
    "# output shown on the browser: use cmd:  $ jupyter notebook notebooks/statistics.ipynb"
   ]
  }
 ],
 "metadata": {
  "kernelspec": {
   "display_name": "Python 3 (ipykernel)",
   "language": "python",
   "name": "python3"
  },
  "language_info": {
   "codemirror_mode": {
    "name": "ipython",
    "version": 3
   },
   "file_extension": ".py",
   "mimetype": "text/x-python",
   "name": "python",
   "nbconvert_exporter": "python",
   "pygments_lexer": "ipython3",
   "version": "3.9.13"
  }
 },
 "nbformat": 4,
 "nbformat_minor": 2
}
