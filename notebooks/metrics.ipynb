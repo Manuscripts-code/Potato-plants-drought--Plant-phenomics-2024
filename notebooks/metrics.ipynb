{
 "cells": [
  {
   "cell_type": "code",
   "execution_count": null,
   "metadata": {},
   "outputs": [],
   "source": [
    "from operator import itemgetter\n",
    "\n",
    "import numpy as np\n",
    "import pandas as pd\n",
    "import torch\n",
    "from rich.progress import track\n",
    "import matplotlib.pyplot as plt\n",
    "\n",
    "from notebooks.helpers import import_artifacts_from_runID\n",
    "from utils.tools import calculate_metric_and_confidence_interval\n",
    "from utils.plot_utils import plot_roc_curves"
   ]
  },
  {
   "cell_type": "code",
   "execution_count": null,
   "metadata": {},
   "outputs": [],
   "source": [
    "run_id = \"181b71e6accd49d5b58c277c963c9308\"\n",
    "artifacts = import_artifacts_from_runID(run_id)\n",
    "model, data_loader, device, config = itemgetter(\"model\", \"data_loader\", \"device\", \"config\")(\n",
    "\tartifacts\n",
    ")\n",
    "\n",
    "predictions_test = []\n",
    "targets_test = []\n",
    "labels_test = []\n",
    "imagings_test = []\n",
    "with torch.no_grad():\n",
    "\tfor data, target, metadata in track(data_loader, description=\"Loading data...\"):\n",
    "\t\tprediction = model(data.to(device))\n",
    "\n",
    "\t\tpredictions_test.append(prediction.cpu().numpy())\n",
    "\t\ttargets_test.append(target.numpy())\n",
    "\t\tlabels_test.append(metadata[\"label\"])\n",
    "\t\timagings_test.append(metadata[\"imaging\"])\n",
    "\n",
    "predictions_test = np.concatenate(predictions_test).flatten()\n",
    "targets_test = np.concatenate(targets_test).flatten()\n",
    "labels_test = np.concatenate(labels_test).flatten()\n",
    "imagings_test = np.concatenate(imagings_test).flatten()\n",
    "\n",
    "test_df = pd.DataFrame.from_dict(\n",
    "\t{\n",
    "\t\t\"imaging\": imagings_test,\n",
    "\t\t\"label\": labels_test,\n",
    "\t\t\"target\": targets_test,\n",
    "\t\t\"prediction\": predictions_test.round().astype(\"int\"),\n",
    "\t\t\"prediction_proba\": predictions_test,\n",
    "\t}\n",
    ")\n",
    "print(test_df.astype(\"object\").groupby(\"imaging\").count())"
   ]
  },
  {
   "cell_type": "code",
   "execution_count": null,
   "metadata": {},
   "outputs": [],
   "source": [
    "from sklearn.metrics import roc_auc_score\n",
    "\n",
    "imaging4_df = test_df[test_df[\"imaging\"] == \"ana-krompir-4-22\"]\n",
    "imaging5_df = test_df[test_df[\"imaging\"] == \"ana-krompir-5-22\"]\n",
    "\n",
    "mean, ci = calculate_metric_and_confidence_interval(imaging4_df, roc_auc_score)\n",
    "print(f\"{mean:.3f} ({ci[0]:.3f}, {ci[1]:.3f})\")\n",
    "mean, ci = calculate_metric_and_confidence_interval(imaging5_df, roc_auc_score)\n",
    "print(f\"{mean:.3f} ({ci[0]:.3f}, {ci[1]:.3f})\")"
   ]
  },
  {
   "cell_type": "code",
   "execution_count": null,
   "metadata": {},
   "outputs": [],
   "source": [
    "\n",
    "data_df = [imaging4_df.copy(), imaging5_df.copy()]\n",
    "plot_roc_curves(data_df)"
   ]
  }
 ],
 "metadata": {
  "kernelspec": {
   "display_name": "ml-env",
   "language": "python",
   "name": "python3"
  },
  "language_info": {
   "codemirror_mode": {
    "name": "ipython",
    "version": 3
   },
   "file_extension": ".py",
   "mimetype": "text/x-python",
   "name": "python",
   "nbconvert_exporter": "python",
   "pygments_lexer": "ipython3",
   "version": "3.9.13"
  },
  "orig_nbformat": 4,
  "vscode": {
   "interpreter": {
    "hash": "0c53fec6fca4cac05b1ddd19140a9df2d78436a9f74fcfbfef81682f6f651611"
   }
  }
 },
 "nbformat": 4,
 "nbformat_minor": 2
}
