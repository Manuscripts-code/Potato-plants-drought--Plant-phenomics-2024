{
 "cells": [
  {
   "cell_type": "code",
   "execution_count": null,
   "metadata": {},
   "outputs": [],
   "source": [
    "from pathlib import Path\n",
    "from operator import itemgetter\n",
    "\n",
    "import matplotlib.pyplot as plt\n",
    "import numpy as np\n",
    "import pandas as pd\n",
    "import torch\n",
    "from rich.progress import track\n",
    "from IPython.display import clear_output\n",
    "\n",
    "import data_loader.data_loaders as module_data\n",
    "import model.model as module_arch\n",
    "from configs import configs\n",
    "from utils.plot_utils import plot_signatures\n",
    "from notebooks.helpers import import_artifacts_from_runID, load_ids_from_registry, get_plot_name\n",
    "from utils.utils import ensure_dir"
   ]
  },
  {
   "cell_type": "code",
   "execution_count": null,
   "metadata": {},
   "outputs": [],
   "source": [
    "def load_test_df(run_id):\n",
    "\tartifacts = import_artifacts_from_runID(run_id)\n",
    "\tdata_loader, config = itemgetter(\"data_loader\", \"config\")(artifacts)\n",
    "\n",
    "\tsignatures_list = []\n",
    "\ttargets_test = []\n",
    "\tlabels_test = []\n",
    "\timagings_test = []\n",
    "\twith torch.no_grad():\n",
    "\t\tfor data, target, metadata in track(data_loader, description=\"Loading data...\"):\n",
    "\t\t\tsignature = torch.mean(data, dim=(2, 3))\n",
    "\t\t\tsignatures_list.append(signature.detach().cpu().numpy().flatten())\n",
    "\t\t\ttargets_test.append(target.numpy())\n",
    "\t\t\tlabels_test.append(metadata[\"label\"])\n",
    "\t\t\timagings_test.append(metadata[\"imaging\"])\n",
    "\n",
    "\tclear_output(wait=True)\n",
    " \n",
    "\ttargets_test = np.concatenate(targets_test).flatten()\n",
    "\tlabels_test = np.concatenate(labels_test).flatten()\n",
    "\timagings_test = np.concatenate(imagings_test).flatten()\n",
    "\n",
    "\ttest_df = pd.DataFrame.from_dict(\n",
    "\t\t{\n",
    "\t\t\t\"signature\": signatures_list,\n",
    "\t\t\t\"target\": data_loader.dataset.label_encoder.inverse_transform(targets_test),\n",
    "\t\t\t\"imaging\": imagings_test,\n",
    "\t\t\t\"label\": labels_test,\n",
    "\t\t}\n",
    "\t)\n",
    "\treturn test_df, config"
   ]
  },
  {
   "cell_type": "code",
   "execution_count": null,
   "metadata": {},
   "outputs": [],
   "source": [
    "run_ids = load_ids_from_registry()\n",
    "test_data = [(load_test_df(run_id)) for run_id in run_ids]\n",
    "\n",
    "save_signatures_dir = ensure_dir(configs.BASE_DIR / \"saved/signatures\")\n",
    "\n",
    "for test_df, config in test_data:\n",
    "\tname = get_plot_name(config)\n",
    "\tplot_signatures(test_df[\"signature\"].to_numpy(), test_df[\"target\"].to_numpy(), title=name) \n",
    "\tsave_path = save_signatures_dir / f\"{name}.png\"\n",
    "\tplt.savefig(save_path)"
   ]
  },
  {
   "cell_type": "code",
   "execution_count": null,
   "metadata": {},
   "outputs": [],
   "source": []
  }
 ],
 "metadata": {
  "kernelspec": {
   "display_name": "ml-env",
   "language": "python",
   "name": "python3"
  },
  "language_info": {
   "codemirror_mode": {
    "name": "ipython",
    "version": 3
   },
   "file_extension": ".py",
   "mimetype": "text/x-python",
   "name": "python",
   "nbconvert_exporter": "python",
   "pygments_lexer": "ipython3",
   "version": "3.9.16"
  },
  "orig_nbformat": 4,
  "vscode": {
   "interpreter": {
    "hash": "c72e7454df75a897e8f5388fc08bb1bb782e157600d99d903d58927cd73e72b4"
   }
  }
 },
 "nbformat": 4,
 "nbformat_minor": 2
}
