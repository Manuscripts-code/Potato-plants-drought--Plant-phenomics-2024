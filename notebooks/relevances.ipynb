{
 "cells": [
  {
   "cell_type": "code",
   "execution_count": null,
   "metadata": {},
   "outputs": [],
   "source": [
    "from pathlib import Path\n",
    "from operator import itemgetter\n",
    "\n",
    "import matplotlib.pyplot as plt\n",
    "import mlflow\n",
    "import numpy as np\n",
    "import torch\n",
    "from rich.progress import track\n",
    "from IPython.display import clear_output\n",
    "\n",
    "import data_loader.data_loaders as module_data\n",
    "import model.model as module_arch\n",
    "from configs import configs\n",
    "from utils.plot_utils import plot_relavant_features, plot_relevances_amplitudes\n",
    "from utils.utils import ensure_dir\n",
    "from notebooks.helpers import import_artifacts_from_runID, load_ids_from_registry, get_plot_name"
   ]
  },
  {
   "cell_type": "code",
   "execution_count": null,
   "metadata": {},
   "outputs": [],
   "source": [
    "def load_test_df(run_id):\n",
    "\tartifacts = import_artifacts_from_runID(run_id)\n",
    "\tmodel, data_loader, device, config = itemgetter(\"model\", \"data_loader\", \"device\", \"config\")(\n",
    "\t\tartifacts\n",
    "\t)\n",
    "\n",
    "\trelevances_list = []\n",
    "\twith torch.no_grad():\n",
    "\t\tfor i, (data, target, _) in enumerate(track(data_loader, description=\"Loading data...\")):\n",
    "\t\t\tdata = data.to(device)\n",
    "\t\t\tsignature = torch.mean(data, dim=(2, 3))\n",
    "\t\t\toutput = model.spectral.fc1(signature)\n",
    "\t\t\toutput = model.spectral.act1(output)\n",
    "\t\t\toutput = model.spectral.fc2(output)\n",
    "\t\t\toutput = model.spectral.act2(output)\n",
    "\t\t\trelevances_list.append(output.detach().cpu().numpy().flatten())\n",
    "\n",
    "\tclear_output(wait=True)\n",
    "\n",
    "\trelevances = np.mean(relevances_list, axis=0)\n",
    "\treturn relevances, config"
   ]
  },
  {
   "cell_type": "code",
   "execution_count": null,
   "metadata": {},
   "outputs": [],
   "source": [
    "run_ids = load_ids_from_registry()\n",
    "test_data = [(load_test_df(run_id)) for run_id in run_ids]\n",
    "\n",
    "save_relevances_dir = ensure_dir(configs.BASE_DIR / \"saved/relevances\")\n",
    "\n",
    "for relevances, config in test_data:\n",
    "\tname = get_plot_name(config)\n",
    "\tplot_relevances_amplitudes(relevances, title=name)\n",
    "\t# plot_relavant_features(relevances)\n",
    "\tsave_path = save_relevances_dir / f\"{name}.png\"\n",
    "\tplt.savefig(save_path)"
   ]
  }
 ],
 "metadata": {
  "kernelspec": {
   "display_name": "ml-env",
   "language": "python",
   "name": "python3"
  },
  "language_info": {
   "codemirror_mode": {
    "name": "ipython",
    "version": 3
   },
   "file_extension": ".py",
   "mimetype": "text/x-python",
   "name": "python",
   "nbconvert_exporter": "python",
   "pygments_lexer": "ipython3",
   "version": "3.9.16"
  },
  "orig_nbformat": 4,
  "vscode": {
   "interpreter": {
    "hash": "c72e7454df75a897e8f5388fc08bb1bb782e157600d99d903d58927cd73e72b4"
   }
  }
 },
 "nbformat": 4,
 "nbformat_minor": 2
}
