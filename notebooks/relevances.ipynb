{
 "cells": [
  {
   "cell_type": "code",
   "execution_count": null,
   "metadata": {},
   "outputs": [],
   "source": [
    "from pathlib import Path\n",
    "from operator import itemgetter\n",
    "\n",
    "import matplotlib.pyplot as plt\n",
    "import mlflow\n",
    "import numpy as np\n",
    "import torch\n",
    "from rich.progress import track\n",
    "\n",
    "import data_loader.data_loaders as module_data\n",
    "import model.model as module_arch\n",
    "from configs import configs\n",
    "from utils.plot_utils import plot_relavant_features, plot_relevances_amplitudes\n",
    "from utils.utils import read_json\n",
    "from notebooks.helpers import import_artifacts_from_runID"
   ]
  },
  {
   "cell_type": "code",
   "execution_count": null,
   "metadata": {},
   "outputs": [],
   "source": [
    "run_id = \"fe7c023d3ad94aeabb2f6fd23a1d031f\"\n",
    "artifacts = import_artifacts_from_runID(run_id)\n",
    "model, data_loader, device, config = itemgetter(\"model\", \"data_loader\", \"device\", \"config\")(\n",
    "\tartifacts\n",
    ")\n",
    "\n",
    "relevances_list = []\n",
    "signatures_list = []\n",
    "with torch.no_grad():\n",
    "\tfor i, (data, target, _) in enumerate(track(data_loader, description=\"Loading data...\")):\n",
    "\t\tdata = data.to(device)\n",
    "\t\tsignature = torch.mean(data, dim=(2, 3))\n",
    "\t\toutput = model.spectral.fc1(signature)\n",
    "\t\toutput = model.spectral.act1(output)\n",
    "\t\toutput = model.spectral.fc2(output)\n",
    "\t\toutput = model.spectral.act2(output)\n",
    "\t\trelevances_list.append(output.detach().cpu().numpy().flatten())\n",
    "\t\tsignatures_list.append(signature.detach().cpu().numpy().flatten())\n",
    "\n",
    "relevances = np.mean(relevances_list, axis=0)\n",
    "signature = np.mean(signatures_list, axis=0)\n",
    "plot_relevances_amplitudes(relevances)\n",
    "# plt.plot(configs.BANDS, signature, color=\"black\", linewidth=2)\n",
    "plot_relavant_features(relevances)\n",
    "plt.show()"
   ]
  }
 ],
 "metadata": {
  "kernelspec": {
   "display_name": "ml-env",
   "language": "python",
   "name": "python3"
  },
  "language_info": {
   "codemirror_mode": {
    "name": "ipython",
    "version": 3
   },
   "file_extension": ".py",
   "mimetype": "text/x-python",
   "name": "python",
   "nbconvert_exporter": "python",
   "pygments_lexer": "ipython3",
   "version": "3.9.13"
  },
  "orig_nbformat": 4,
  "vscode": {
   "interpreter": {
    "hash": "0c53fec6fca4cac05b1ddd19140a9df2d78436a9f74fcfbfef81682f6f651611"
   }
  }
 },
 "nbformat": 4,
 "nbformat_minor": 2
}
