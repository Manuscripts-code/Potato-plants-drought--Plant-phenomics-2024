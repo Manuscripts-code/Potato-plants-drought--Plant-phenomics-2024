{
 "cells": [
  {
   "cell_type": "code",
   "execution_count": null,
   "metadata": {},
   "outputs": [],
   "source": [
    "from pathlib import Path\n",
    "\n",
    "import matplotlib.pyplot as plt\n",
    "import mlflow\n",
    "import numpy as np\n",
    "import torch\n",
    "from rich.progress import track\n",
    "\n",
    "import data_loader.data_loaders as module_data\n",
    "import model.model as module_arch\n",
    "from configs import configs\n",
    "from utils.plot_utils import plot_relavant_features, plot_relevances_amplitudes\n",
    "from utils.utils import read_json"
   ]
  },
  {
   "cell_type": "code",
   "execution_count": null,
   "metadata": {},
   "outputs": [],
   "source": [
    "\n",
    "run_id = \"fe7c023d3ad94aeabb2f6fd23a1d031f\"\n",
    "experiment_id = mlflow.get_run(run_id=run_id).info.experiment_id\n",
    "artifacts_base_path = Path(configs.MODEL_REGISTRY, experiment_id, run_id, \"artifacts\")\n",
    "config = read_json(artifacts_base_path / \"configs/config.json\")\n",
    "checkpoint = torch.load(artifacts_base_path / \"checkpoints/model_best.pth\")\n",
    "\n",
    "state_dict = checkpoint[\"state_dict\"]\n",
    "model = getattr(module_arch, config[\"arch\"][\"type\"])(**config[\"arch\"][\"args\"])\n",
    "model.load_state_dict(state_dict)\n",
    "\n",
    "device = torch.device(\"cuda\" if torch.cuda.is_available() else \"cpu\")\n",
    "model = model.to(device)\n",
    "model.eval()\n",
    "\n",
    "data_loader = getattr(module_data, config[\"data_loader\"][\"type\"])(\n",
    "\tconfigs.DATA_DIR,\n",
    "\tconfig[\"data_loader\"][\"args\"][\"dataset\"],\n",
    "\tconfig[\"data_loader\"][\"args\"][\"data_sampler\"],\n",
    "\ttrain_test_split_size=config[\"data_loader\"][\"args\"][\"train_test_split_size\"],\n",
    "\ttrain_valid_split_size=config[\"data_loader\"][\"args\"][\"train_valid_split_size\"],\n",
    "\tbatch_size=1,\n",
    "\tshuffle=False,\n",
    "\ttraining=False,\n",
    ")\n",
    "\n",
    "relevances_list = []\n",
    "signatures_list = []\n",
    "with torch.no_grad():\n",
    "\tfor i, (data, target, _) in enumerate(track(data_loader, description=\"Loading data...\")):\n",
    "\t\tdata = data.to(device)\n",
    "\t\tsignature = torch.mean(data, dim=(2, 3))\n",
    "\t\toutput = model.spectral.fc1(signature)\n",
    "\t\toutput = model.spectral.act1(output)\n",
    "\t\toutput = model.spectral.fc2(output)\n",
    "\t\toutput = model.spectral.act2(output)\n",
    "\t\trelevances_list.append(output.detach().cpu().numpy().flatten())\n",
    "\t\tsignatures_list.append(signature.detach().cpu().numpy().flatten())\n",
    "\n",
    "relevances = np.mean(relevances_list, axis=0)\n",
    "signature = np.mean(signatures_list, axis=0)\n",
    "indices_by_relevance = np.argsort(relevances)[::-1]\n",
    "plot_relevances_amplitudes(relevances)\n",
    "plt.plot(configs.BANDS, signature, color=\"black\", linewidth=2)\n",
    "plot_relavant_features(indices_by_relevance)\n",
    "plt.show()"
   ]
  }
 ],
 "metadata": {
  "kernelspec": {
   "display_name": "ml-env",
   "language": "python",
   "name": "python3"
  },
  "language_info": {
   "codemirror_mode": {
    "name": "ipython",
    "version": 3
   },
   "file_extension": ".py",
   "mimetype": "text/x-python",
   "name": "python",
   "nbconvert_exporter": "python",
   "pygments_lexer": "ipython3",
   "version": "3.9.13"
  },
  "orig_nbformat": 4,
  "vscode": {
   "interpreter": {
    "hash": "0c53fec6fca4cac05b1ddd19140a9df2d78436a9f74fcfbfef81682f6f651611"
   }
  }
 },
 "nbformat": 4,
 "nbformat_minor": 2
}
